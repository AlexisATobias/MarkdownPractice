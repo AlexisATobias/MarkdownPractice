{
 "cells": [
  {
   "cell_type": "markdown",
   "id": "01868e52",
   "metadata": {},
   "source": [
    "# Alexis Tobias - Markdown Practice"
   ]
  },
  {
   "cell_type": "markdown",
   "id": "05d5ab7f",
   "metadata": {},
   "source": [
    "### I am a student at Bellarmine University working towards my bachelor's degree. I am a 2nd grade teacher's assistant at a Catholic School. Some of my interests include playing: video games, bonding with my dogs, and keeping up with Taylor Swift's life."
   ]
  },
  {
   "cell_type": "markdown",
   "id": "e2fc5f74",
   "metadata": {},
   "source": [
    "#### Course Activities (Bullet List):\n",
    "* Programming Assignments\n",
    "* Mid-Term Exam\n",
    "* Final Exam"
   ]
  },
  {
   "cell_type": "markdown",
   "id": "952fa4be",
   "metadata": {},
   "source": [
    "#### Chapters Covered in this Course (Ordered List):\n",
    "1. Chapter 2: Variables and Simple Data Types\n",
    "2. Chapter 3: Introducing Lists\n",
    "3. Chapter 4: Working with Lists\n",
    "4. Chapter 5: if Statements\n",
    "5. Chapter 6: Dictionaries\n",
    "6. Chapter 7: User Input and while Loops\n",
    "7. Chapter 8: Functions"
   ]
  },
  {
   "cell_type": "markdown",
   "id": "b5925289",
   "metadata": {},
   "source": [
    "#### Expected Language to Learn:\n",
    "**Python Programming Language**"
   ]
  },
  {
   "cell_type": "markdown",
   "id": "4989649c",
   "metadata": {},
   "source": [
    "#### Software I will be using:\n",
    "*Anaconda Python, Jupyter Notebooks, Microsoft Windows, and GitHub* "
   ]
  },
  {
   "cell_type": "markdown",
   "id": "64ed32ae",
   "metadata": {},
   "source": [
    "#### Highlighting Example:\n",
    "\"Highlight `a block of words` in a sentence using backtick.\""
   ]
  },
  {
   "cell_type": "markdown",
   "id": "302ab34a",
   "metadata": {},
   "source": [
    "#### GitHub Links\n",
    "<a href=\"https://github.com/AlexisATobias\">This link is for my GitHub Profile</a>\n",
    "\n",
    "<a href=\"https://github.com/dashboard\">This link is for my GitHub Account</a>"
   ]
  },
  {
   "cell_type": "markdown",
   "id": "d5c4bd98",
   "metadata": {},
   "source": [
    "#### Render Image:\n",
    "![Bellarmine Logo](https://www.bellarmine.edu/sf-images/default-source/default-album/bellarmine-university-logo.png?sfvrsn=92294480)"
   ]
  },
  {
   "cell_type": "markdown",
   "id": "f1b0b265",
   "metadata": {},
   "source": [
    "This assignment allowed me to practice with Markdowns within Jupyter Notebooks. I gained experience with headings, lists (bullets and ordered lists), bolding, italicizing, highlighting, inserting hyperlinks, and rendering images. Next, I will learn how to submit this file to GitHub. "
   ]
  },
  {
   "cell_type": "markdown",
   "id": "c4fcd93c",
   "metadata": {},
   "source": [
    "# Assignment 1- Submitting Project to GitHub\n",
    "## Created by: Alexis Tobias\n",
    "### Version 0.1\n",
    "#### FA23 (CS150-Computer Programming for the Liberal Arts)\n",
    " "
   ]
  }
 ],
 "metadata": {
  "kernelspec": {
   "display_name": "Python 3 (ipykernel)",
   "language": "python",
   "name": "python3"
  },
  "language_info": {
   "codemirror_mode": {
    "name": "ipython",
    "version": 3
   },
   "file_extension": ".py",
   "mimetype": "text/x-python",
   "name": "python",
   "nbconvert_exporter": "python",
   "pygments_lexer": "ipython3",
   "version": "3.11.5"
  }
 },
 "nbformat": 4,
 "nbformat_minor": 5
}
